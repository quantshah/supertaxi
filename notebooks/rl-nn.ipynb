{
 "cells": [
  {
   "cell_type": "markdown",
   "metadata": {},
   "source": [
    "# MDP Algorithms with OpenAI Gym"
   ]
  },
  {
   "cell_type": "code",
   "execution_count": 292,
   "metadata": {},
   "outputs": [],
   "source": [
    "import numpy as np\n",
    "import gym\n",
    "import gym.spaces as spaces\n",
    "import time\n",
    "\n",
    "import numpy as np\n",
    "import networkx as nx\n",
    "\n",
    "import matplotlib.pyplot as plt"
   ]
  },
  {
   "cell_type": "code",
   "execution_count": 293,
   "metadata": {},
   "outputs": [
    {
     "data": {
      "image/png": "[encoded data removed]",
      "text/plain": [
       "<Figure size 432x288 with 1 Axes>"
      ]
     },
     "metadata": {},
     "output_type": "display_data"
    }
   ],
   "source": [
    "# Number of locations in the city\n",
    "N = 5\n",
    "connectivity = 2\n",
    "p = 0.8\n",
    "\n",
    "# make a random graph to represent a city network\n",
    "road_network = nx.connected_watts_strogatz_graph(N, connectivity, p)\n",
    "nodes = road_network.nodes\n",
    "\n",
    "nx.draw_networkx(road_network)\n",
    "plt.show()"
   ]
  },
  {
   "cell_type": "code",
   "execution_count": 295,
   "metadata": {},
   "outputs": [
    {
     "name": "stdout",
     "output_type": "stream",
     "text": [
      "Total path to travel [1, 0, 1, 2]\n",
      "Total expected reward 5.0\n",
      "Total customer wait time 1\n",
      "Location:  1 Current reward 0.0 Expected reward 5.0\n",
      "Location:  0 Current reward 0.0 Expected reward 5.0\n",
      "Location:  1 Current reward 0.0 Expected reward 5.0\n",
      "Location:  2 Current reward 0.0 Expected reward 5.0\n",
      "Location:  2 Current reward 5.0 Expected reward 0.0\n",
      "Location:  2 Current reward 0 Expected reward 0\n",
      "Location:  2 Current reward 0 Expected reward 0\n",
      "Location:  2 Current reward 0 Expected reward 0\n",
      "Location:  2 Current reward 0 Expected reward 0\n",
      "Location:  2 Current reward 0 Expected reward 0\n",
      "Location:  2 Current reward 0 Expected reward 0\n",
      "Location:  2 Current reward 0 Expected reward 0\n",
      "Location:  2 Current reward 0 Expected reward 0\n",
      "Location:  2 Current reward 0 Expected reward 0\n",
      "Location:  2 Current reward 0 Expected reward 0\n",
      "Location:  2 Current reward 0 Expected reward 0\n",
      "Location:  2 Current reward 0 Expected reward 0\n",
      "Location:  2 Current reward 0 Expected reward 0\n",
      "Location:  2 Current reward 0 Expected reward 0\n",
      "Location:  2 Current reward 0 Expected reward 0\n"
     ]
    }
   ],
   "source": [
    "class Taxi:\n",
    "    \"\"\"\n",
    "    A taxi class to keep track of the internal state for each taxi.\n",
    "    \"\"\"\n",
    "    def __init__(self, number, start_location):\n",
    "        self._number = number\n",
    "        self.available = True\n",
    "        self.current_location = start_location\n",
    "\n",
    "        self.source = []\n",
    "        self.destination = []\n",
    "        self.path = []\n",
    "        self.path_generator = None\n",
    "        self.expected_reward = 0.\n",
    "        self.customer_wait_time = None\n",
    "        self.current_reward = 0.\n",
    "\n",
    "    @property\n",
    "    def number(self):\n",
    "        return self._number\n",
    "\n",
    "    def hire(self, source, destination):\n",
    "        if self.available == True:\n",
    "            self.available = False\n",
    "            self.source = source\n",
    "            self.destination = destination\n",
    "\n",
    "            self.set_path_and_reward(source, destination)\n",
    "            \n",
    "    def dispatch(self, destination):\n",
    "        self.destination = destination\n",
    "        to_destination = nx.shortest_path(road_network, self.current_location,\n",
    "                                       destination)\n",
    "        self.path = to_destination\n",
    "        self.path_generator = (p for p in self.path)\n",
    "        \n",
    "        cost = len(to_destination) - 1\n",
    "        self.expected_reward = -cost\n",
    "\n",
    "            \n",
    "    def set_path_and_reward(self, source, destination):\n",
    "        \"\"\"\n",
    "        Sets a path from current location to source and then the destination.\n",
    "        \"\"\"\n",
    "        to_customer = nx.shortest_path(road_network, self.current_location,\n",
    "                                       source)\n",
    "        to_destination = nx.shortest_path(road_network, source,\n",
    "                                       destination)\n",
    "        \n",
    "        total_path = to_customer[:-1]+to_destination\n",
    "        self.path = total_path\n",
    "        self.path_generator = (p for p in self.path)\n",
    "        \n",
    "        cost_to_go_to_customer = len(to_customer) - 1\n",
    "        trip_reward = 3*(len(to_destination) - 1)\n",
    "\n",
    "        self.expected_reward += trip_reward - cost_to_go_to_customer\n",
    "        self.customer_wait_time = len(to_customer) - 1\n",
    "\n",
    "\n",
    "    def reset(self):\n",
    "        self.available = True\n",
    "        \n",
    "        self.source = []\n",
    "        self.destination = []\n",
    "        self.path = []\n",
    "        self.path_generator = None\n",
    "        self.expected_reward = 0.\n",
    "        self.current_reward = 0.\n",
    "\n",
    "\n",
    "    def step(self):\n",
    "        if self.available == True:\n",
    "            try:\n",
    "                self.current_location = next(self.path_generator)\n",
    "                self.current_reward = -1\n",
    "            except:\n",
    "                self.expected_reward = 0\n",
    "                self.current_reward = 0\n",
    "        else:\n",
    "            if (self.current_location == self.destination):\n",
    "                reward = self.expected_reward\n",
    "                self.reset()\n",
    "                self.current_reward = reward\n",
    "            else:\n",
    "                self.current_location = next(self.path_generator)\n",
    "    \n",
    "    def __repr__(self):\n",
    "        return str(self.number)\n",
    "\n",
    "# Set taxi at location 5\n",
    "taxi_test = Taxi(0, 1)\n",
    "\n",
    "# Hire for a delivery from location\n",
    "taxi_test.hire(0, 2)\n",
    "\n",
    "print(\"Total path to travel\", taxi_test.path)\n",
    "print(\"Total expected reward\", taxi_test.expected_reward)\n",
    "print(\"Total customer wait time\", taxi_test.customer_wait_time)\n",
    "\n",
    "# Take a few steps\n",
    "for i in range(20):\n",
    "    taxi_test.step()\n",
    "    print(\"Location: \", taxi_test.current_location, \"Current reward\", taxi_test.current_reward, \"Expected reward\", taxi_test.expected_reward)"
   ]
  },
  {
   "cell_type": "code",
   "execution_count": 296,
   "metadata": {},
   "outputs": [
    {
     "name": "stdout",
     "output_type": "stream",
     "text": [
      "Total path to travel [1, 3]\n",
      "Total expected reward -1\n",
      "Total customer wait time None\n",
      "Location:  1 Current reward -1 Expected reward -1\n",
      "Location:  3 Current reward -1 Expected reward -1\n",
      "Location:  3 Current reward 0 Expected reward 0\n",
      "Location:  3 Current reward 0 Expected reward 0\n",
      "Location:  3 Current reward 0 Expected reward 0\n",
      "Location:  3 Current reward 0 Expected reward 0\n",
      "Location:  3 Current reward 0 Expected reward 0\n",
      "Location:  3 Current reward 0 Expected reward 0\n",
      "Location:  3 Current reward 0 Expected reward 0\n",
      "Location:  3 Current reward 0 Expected reward 0\n",
      "Location:  3 Current reward 0 Expected reward 0\n",
      "Location:  3 Current reward 0 Expected reward 0\n",
      "Location:  3 Current reward 0 Expected reward 0\n",
      "Location:  3 Current reward 0 Expected reward 0\n",
      "Location:  3 Current reward 0 Expected reward 0\n",
      "Location:  3 Current reward 0 Expected reward 0\n",
      "Location:  3 Current reward 0 Expected reward 0\n",
      "Location:  3 Current reward 0 Expected reward 0\n",
      "Location:  3 Current reward 0 Expected reward 0\n",
      "Location:  3 Current reward 0 Expected reward 0\n"
     ]
    }
   ],
   "source": [
    "# Set taxi at location 5\n",
    "taxi_test = Taxi(0, 1)\n",
    "\n",
    "# Hire for a delivery from location\n",
    "taxi_test.dispatch(3)\n",
    "\n",
    "print(\"Total path to travel\", taxi_test.path)\n",
    "print(\"Total expected reward\", taxi_test.expected_reward)\n",
    "print(\"Total customer wait time\", taxi_test.customer_wait_time)\n",
    "\n",
    "# Take a few steps\n",
    "# Take a few steps\n",
    "for i in range(20):\n",
    "    taxi_test.step()\n",
    "    print(\"Location: \", taxi_test.current_location, \"Current reward\", taxi_test.current_reward, \"Expected reward\", taxi_test.expected_reward)"
   ]
  },
  {
   "cell_type": "code",
   "execution_count": 297,
   "metadata": {},
   "outputs": [
    {
     "data": {
      "text/plain": [
       "0"
      ]
     },
     "execution_count": 297,
     "metadata": {},
     "output_type": "execute_result"
    }
   ],
   "source": [
    "taxi_test.expected_reward"
   ]
  },
  {
   "cell_type": "code",
   "execution_count": 278,
   "metadata": {},
   "outputs": [],
   "source": [
    "class Environment(object):\n",
    "    def __init__(self, road_network, num_taxis):\n",
    "        \"\"\"\n",
    "        An environment to play the game\n",
    "        \n",
    "        Args:\n",
    "            road_network (`nx.Graph`): a networkX graph representing the road network\n",
    "            num_taxis (int): the number of taxi\n",
    "        \"\"\"\n",
    "        self.road_network = road_network\n",
    "        self.nodes = road_network.nodes\n",
    "        self.num_nodes = len(road_network.nodes)\n",
    "        \n",
    "        self.num_taxis = num_taxis\n",
    "        self.taxi_queue = [[] for i in range(self.num_nodes)]\n",
    "        self._initialize_taxi_queue()\n",
    "        \n",
    "        self.queue = [[] for i in range(self.num_nodes)]\n",
    "        self.generate_demand()\n",
    "\n",
    "    def _initialize_taxi_queue(self):\n",
    "        \"\"\"\n",
    "        Initializes a taxi queue\n",
    "        \"\"\"\n",
    "        for i in range(self.num_taxis):\n",
    "            rand_location = np.random.randint(0, self.num_nodes)\n",
    "            self.taxi_queue[rand_location].append(Taxi(i, rand_location))\n",
    "\n",
    "        \n",
    "    def generate_demand(self):\n",
    "        \"\"\"\n",
    "        Generates demands to go randomly to new locations at each point and adds to queue.\n",
    "\n",
    "        Args:\n",
    "            queue (list): a list of current demands at each location\n",
    "        \"\"\"\n",
    "        for i, demand in enumerate(np.random.poisson(size=self.num_nodes)):\n",
    "            if len(self.queue[i]) < 1:\n",
    "                possible_destinations = list(self.nodes)\n",
    "                possible_destinations.remove(i)\n",
    "                new_destinations = np.random.choice(possible_destinations, demand)\n",
    "                for d in new_destinations.ravel():\n",
    "                    self.queue[i].append(d)\n",
    "\n",
    "            \n",
    "    def random_action(self):\n",
    "        \"\"\"\n",
    "        Takes a random set of actions to assign to taxis.\n",
    "        \"\"\"\n",
    "        actions = {}\n",
    "\n",
    "        for node in range(self.num_nodes):\n",
    "            # get one action for each available taxi in the location\n",
    "            for taxi in self.taxi_queue[node]:\n",
    "                if taxi.available:\n",
    "                    rand_source = np.random.randint(0, self.num_nodes)\n",
    "                    if (len(self.queue[rand_source]) > 1) and (np.random.random() > 0.5):\n",
    "                        destination = np.random.choice(self.queue[rand_source], 1)\n",
    "                        actions[taxi.number] = (\"hire\", rand_source, destination[0])\n",
    "                    else:\n",
    "                        actions[taxi.number] = (\"dispatch\", rand_source)\n",
    "                else:\n",
    "                    actions[taxi.number] = \"nothing\"\n",
    "        return actions\n",
    "\n",
    "\n",
    "    def assign(self, actions):\n",
    "        \"\"\"\n",
    "        Assigns actions to taxis\n",
    "        \"\"\"\n",
    "        for node, taxis in enumerate(self.taxi_queue):\n",
    "            for t in taxis:\n",
    "                action_to_do = actions[t._number]\n",
    "                if action_to_do[0] == \"hire\":\n",
    "                    source, destination = action_to_do[1], action_to_do[2]\n",
    "                    # try to hire and remove the demand\n",
    "                    if destination in self.queue[node]:\n",
    "                        t.hire(source, destination)\n",
    "                        self.queue[node].remove(destination)\n",
    "                        print(self.queue[node])\n",
    "\n",
    "                if action_to_do[0] == \"dispatch\":\n",
    "                    destination = action_to_do[1]\n",
    "                    t.dispatch(destination)\n",
    "                else:\n",
    "                    pass\n",
    "        \n",
    "    def step(self, actions):\n",
    "        \"\"\"\n",
    "        Takes a single step of the environment implementing the actions\n",
    "        \"\"\"\n",
    "        self.assign(a)\n",
    "        # Take one step for each taxi\n",
    "        for taxis in self.taxi_queue:\n",
    "            for t in taxis:\n",
    "                t.step()\n",
    "\n",
    "        # Assign all the actions to be performed by the taxis\n",
    "        self.generate_demand()\n",
    "\n",
    "        \n",
    "    def reward(self):\n",
    "        \"\"\"\n",
    "        \n",
    "        \"\"\"\n",
    "        total_reward = 0\n",
    "        for taxis in self.taxi_queue:\n",
    "            for t in taxis:\n",
    "                total_reward += t.current_reward\n",
    "                \n",
    "        return total_reward\n",
    "\n",
    "\n",
    "    def reset(self):\n",
    "        \"\"\"\n",
    "        Resets the environment (keeping the road network same)\n",
    "        \"\"\"\n",
    "        self.taxi_queue = [[] for i in range(self.num_nodes)]\n",
    "        self._initialize_taxi_queue()\n",
    "        \n",
    "        self.queue = [[] for i in range(self.num_nodes)]\n",
    "        self.generate_demand()"
   ]
  },
  {
   "cell_type": "code",
   "execution_count": 279,
   "metadata": {},
   "outputs": [
    {
     "data": {
      "text/plain": [
       "[[], [9], [4, 6], [9, 9, 9], [], [8], [], [1, 5], [], []]"
      ]
     },
     "execution_count": 279,
     "metadata": {},
     "output_type": "execute_result"
    }
   ],
   "source": [
    "taxienv = Environment(road_network, 10)\n",
    "taxienv.queue"
   ]
  },
  {
   "cell_type": "code",
   "execution_count": 280,
   "metadata": {},
   "outputs": [
    {
     "data": {
      "text/plain": [
       "[[], [0, 2], [6], [], [1], [], [4], [7], [3, 8], [5, 9]]"
      ]
     },
     "execution_count": 280,
     "metadata": {},
     "output_type": "execute_result"
    }
   ],
   "source": [
    "taxienv.taxi_queue"
   ]
  },
  {
   "cell_type": "code",
   "execution_count": 281,
   "metadata": {},
   "outputs": [
    {
     "name": "stdout",
     "output_type": "stream",
     "text": [
      "[[1], [9], [4, 6], [9, 9, 9], [], [8], [3, 8], [1, 5], [0], [1, 6]]\n",
      "\n",
      "\n",
      "[[1], [9], [4, 6], [9, 9, 9], [], [8], [3, 8], [1, 5], [0], [1, 6]]\n",
      "\n",
      "\n",
      "[[1], [9], [4, 6], [9, 9, 9], [], [8], [3, 8], [1, 5], [0], [1, 6]]\n",
      "\n",
      "\n"
     ]
    }
   ],
   "source": [
    "for i in range(3):\n",
    "    taxienv.generate_demand()\n",
    "    print(taxienv.queue)\n",
    "    print(\"\\n\")"
   ]
  },
  {
   "cell_type": "code",
   "execution_count": 288,
   "metadata": {},
   "outputs": [
    {
     "data": {
      "text/plain": [
       "([[4], [5], [0], [4], [0, 1], [3], [9], [4], [7], [8]],\n",
       " [[], [8], [6], [4], [], [0], [9], [], [1], [2, 3, 5, 7]])"
      ]
     },
     "execution_count": 288,
     "metadata": {},
     "output_type": "execute_result"
    }
   ],
   "source": [
    "taxienv.queue, taxienv.taxi_queue"
   ]
  },
  {
   "cell_type": "code",
   "execution_count": 289,
   "metadata": {},
   "outputs": [
    {
     "data": {
      "text/plain": [
       "{8: ('dispatch', 3),\n",
       " 6: ('hire', 4, 1),\n",
       " 4: ('dispatch', 9),\n",
       " 0: ('dispatch', 0),\n",
       " 9: ('dispatch', 7),\n",
       " 1: ('dispatch', 1),\n",
       " 2: ('dispatch', 3),\n",
       " 3: ('dispatch', 9),\n",
       " 5: ('dispatch', 8),\n",
       " 7: ('dispatch', 8)}"
      ]
     },
     "execution_count": 289,
     "metadata": {},
     "output_type": "execute_result"
    }
   ],
   "source": [
    "a"
   ]
  },
  {
   "cell_type": "code",
   "execution_count": 282,
   "metadata": {},
   "outputs": [
    {
     "data": {
      "text/plain": [
       "[[], [0, 2], [6], [], [1], [], [4], [7], [3, 8], [5, 9]]"
      ]
     },
     "execution_count": 282,
     "metadata": {},
     "output_type": "execute_result"
    }
   ],
   "source": [
    "taxienv.taxi_queue"
   ]
  },
  {
   "cell_type": "code",
   "execution_count": 283,
   "metadata": {},
   "outputs": [],
   "source": [
    "taxienv.reset()"
   ]
  },
  {
   "cell_type": "code",
   "execution_count": 285,
   "metadata": {},
   "outputs": [
    {
     "name": "stdout",
     "output_type": "stream",
     "text": [
      "[[4], [5], [3], [4], [0, 1], [3, 7], [9], [4], [7], [7]]\n",
      "Reward -10\n",
      "[[4], [5], [3], [4], [0, 1], [3, 7], [9], [4], [7], [7]]\n",
      "------------------------------------------\n",
      "[[4], [5], [3], [4], [0, 1], [3, 7], [9], [4], [7], [7]]\n",
      "Reward -10\n",
      "[[4], [5], [3], [4], [0, 1], [3, 7], [9], [4], [7], [7]]\n",
      "------------------------------------------\n",
      "[[4], [5], [3], [4], [0, 1], [3, 7], [9], [4], [7], [7]]\n",
      "Reward -10\n",
      "[[4], [5], [3], [4], [0, 1], [3, 7], [9], [4], [7], [7]]\n",
      "------------------------------------------\n",
      "[[4], [5], [3], [4], [0, 1], [3, 7], [9], [4], [7], [7]]\n",
      "Reward -10\n",
      "[[4], [5], [3], [4], [0, 1], [3, 7], [9], [4], [7], [7]]\n",
      "------------------------------------------\n",
      "[[4], [5], [3], [4], [0, 1], [3, 7], [9], [4], [7], [7]]\n",
      "Reward -10\n",
      "[[4], [5], [3], [4], [0, 1], [3, 7], [9], [4], [7], [7]]\n",
      "------------------------------------------\n",
      "[[4], [5], [3], [4], [0, 1], [3, 7], [9], [4], [7], [7]]\n",
      "Reward -10\n",
      "[[4], [5], [3], [4], [0, 1], [3, 7], [9], [4], [7], [7]]\n",
      "------------------------------------------\n",
      "[[4], [5], [3], [4], [0, 1], [3, 7], [9], [4], [7], [7]]\n",
      "Reward -10\n",
      "[[4], [5], [3], [4], [0, 1], [3, 7], [9], [4], [7], [7]]\n",
      "------------------------------------------\n",
      "[[4], [5], [3], [4], [0, 1], [3, 7], [9], [4], [7], [7]]\n",
      "Reward -10\n",
      "[[4], [5], [3], [4], [0, 1], [3, 7], [9], [4], [7], [7]]\n",
      "------------------------------------------\n",
      "[[4], [5], [3], [4], [0, 1], [3, 7], [9], [4], [7], [7]]\n",
      "Reward -10\n",
      "[[4], [5], [3], [4], [0, 1], [3, 7], [9], [4], [7], [7]]\n",
      "------------------------------------------\n",
      "[[4], [5], [3], [4], [0, 1], [3, 7], [9], [4], [7], [7]]\n",
      "Reward -10\n",
      "[[4], [5], [3], [4], [0, 1], [3, 7], [9], [4], [7], [7]]\n",
      "------------------------------------------\n",
      "[[4], [5], [3], [4], [0, 1], [3, 7], [9], [4], [7], [7]]\n",
      "Reward -10\n",
      "[[4], [5], [3], [4], [0, 1], [3, 7], [9], [4], [7], [7]]\n",
      "------------------------------------------\n",
      "[[4], [5], [3], [4], [0, 1], [3, 7], [9], [4], [7], [7]]\n",
      "Reward -10\n",
      "[[4], [5], [3], [4], [0, 1], [3, 7], [9], [4], [7], [7]]\n",
      "------------------------------------------\n",
      "[[4], [5], [3], [4], [0, 1], [3, 7], [9], [4], [7], [7]]\n",
      "Reward -10\n",
      "[[4], [5], [3], [4], [0, 1], [3, 7], [9], [4], [7], [7]]\n",
      "------------------------------------------\n",
      "[[4], [5], [3], [4], [0, 1], [3, 7], [9], [4], [7], [7]]\n",
      "Reward -10\n",
      "[[4], [5], [3], [4], [0, 1], [3, 7], [9], [4], [7], [7]]\n",
      "------------------------------------------\n",
      "[[4], [5], [3], [4], [0, 1], [3, 7], [9], [4], [7], [7]]\n",
      "Reward -9\n",
      "[[4], [5], [3], [4], [0, 1], [3, 7], [9], [4], [7], [7]]\n",
      "------------------------------------------\n",
      "[[4], [5], [3], [4], [0, 1], [3, 7], [9], [4], [7], [7]]\n",
      "[]\n",
      "Reward -10\n",
      "[[4], [5], [3], [4], [0, 1], [3, 7], [9], [4], [7], [8]]\n",
      "------------------------------------------\n",
      "[[4], [5], [3], [4], [0, 1], [3, 7], [9], [4], [7], [8]]\n",
      "Reward -10\n",
      "[[4], [5], [3], [4], [0, 1], [3, 7], [9], [4], [7], [8]]\n",
      "------------------------------------------\n",
      "[[4], [5], [3], [4], [0, 1], [3, 7], [9], [4], [7], [8]]\n",
      "Reward -10\n",
      "[[4], [5], [3], [4], [0, 1], [3, 7], [9], [4], [7], [8]]\n",
      "------------------------------------------\n",
      "[[4], [5], [3], [4], [0, 1], [3, 7], [9], [4], [7], [8]]\n",
      "Reward -10\n",
      "[[4], [5], [3], [4], [0, 1], [3, 7], [9], [4], [7], [8]]\n",
      "------------------------------------------\n",
      "[[4], [5], [3], [4], [0, 1], [3, 7], [9], [4], [7], [8]]\n",
      "Reward -10\n",
      "[[4], [5], [3], [4], [0, 1], [3, 7], [9], [4], [7], [8]]\n",
      "------------------------------------------\n",
      "[[4], [5], [3], [4], [0, 1], [3, 7], [9], [4], [7], [8]]\n",
      "Reward -15\n",
      "[[4], [5], [3], [4], [0, 1], [3, 7], [9], [4], [7], [8]]\n",
      "------------------------------------------\n",
      "[[4], [5], [3], [4], [0, 1], [3, 7], [9], [4], [7], [8]]\n",
      "Reward -10\n",
      "[[4], [5], [3], [4], [0, 1], [3, 7], [9], [4], [7], [8]]\n",
      "------------------------------------------\n",
      "[[4], [5], [3], [4], [0, 1], [3, 7], [9], [4], [7], [8]]\n",
      "Reward -10\n",
      "[[4], [5], [3], [4], [0, 1], [3, 7], [9], [4], [7], [8]]\n",
      "------------------------------------------\n",
      "[[4], [5], [3], [4], [0, 1], [3, 7], [9], [4], [7], [8]]\n",
      "[]\n",
      "Reward -10\n",
      "[[4], [5], [5, 0], [4], [0, 1], [3, 7], [9], [4], [7], [8]]\n",
      "------------------------------------------\n",
      "[[4], [5], [5, 0], [4], [0, 1], [3, 7], [9], [4], [7], [8]]\n",
      "Reward -10\n",
      "[[4], [5], [5, 0], [4], [0, 1], [3, 7], [9], [4], [7], [8]]\n",
      "------------------------------------------\n",
      "[[4], [5], [5, 0], [4], [0, 1], [3, 7], [9], [4], [7], [8]]\n",
      "[3]\n",
      "Reward -8\n",
      "[[4], [5], [5, 0], [4], [0, 1], [3], [9], [4], [7], [8]]\n",
      "------------------------------------------\n",
      "[[4], [5], [5, 0], [4], [0, 1], [3], [9], [4], [7], [8]]\n",
      "Reward -10\n",
      "[[4], [5], [5, 0], [4], [0, 1], [3], [9], [4], [7], [8]]\n",
      "------------------------------------------\n",
      "[[4], [5], [5, 0], [4], [0, 1], [3], [9], [4], [7], [8]]\n",
      "Reward -4\n",
      "[[4], [5], [5, 0], [4], [0, 1], [3], [9], [4], [7], [8]]\n",
      "------------------------------------------\n",
      "[[4], [5], [5, 0], [4], [0, 1], [3], [9], [4], [7], [8]]\n",
      "Reward -10\n",
      "[[4], [5], [5, 0], [4], [0, 1], [3], [9], [4], [7], [8]]\n",
      "------------------------------------------\n",
      "[[4], [5], [5, 0], [4], [0, 1], [3], [9], [4], [7], [8]]\n",
      "Reward -9\n",
      "[[4], [5], [5, 0], [4], [0, 1], [3], [9], [4], [7], [8]]\n",
      "------------------------------------------\n",
      "[[4], [5], [5, 0], [4], [0, 1], [3], [9], [4], [7], [8]]\n",
      "Reward -10\n",
      "[[4], [5], [5, 0], [4], [0, 1], [3], [9], [4], [7], [8]]\n",
      "------------------------------------------\n",
      "[[4], [5], [5, 0], [4], [0, 1], [3], [9], [4], [7], [8]]\n",
      "Reward -10\n",
      "[[4], [5], [5, 0], [4], [0, 1], [3], [9], [4], [7], [8]]\n",
      "------------------------------------------\n",
      "[[4], [5], [5, 0], [4], [0, 1], [3], [9], [4], [7], [8]]\n",
      "[0]\n",
      "Reward -10\n",
      "[[4], [5], [0], [4], [0, 1], [3], [9], [4], [7], [8]]\n",
      "------------------------------------------\n",
      "[[4], [5], [0], [4], [0, 1], [3], [9], [4], [7], [8]]\n",
      "Reward -10\n",
      "[[4], [5], [0], [4], [0, 1], [3], [9], [4], [7], [8]]\n",
      "------------------------------------------\n",
      "[[4], [5], [0], [4], [0, 1], [3], [9], [4], [7], [8]]\n",
      "Reward -10\n",
      "[[4], [5], [0], [4], [0, 1], [3], [9], [4], [7], [8]]\n",
      "------------------------------------------\n",
      "[[4], [5], [0], [4], [0, 1], [3], [9], [4], [7], [8]]\n",
      "Reward -10\n",
      "[[4], [5], [0], [4], [0, 1], [3], [9], [4], [7], [8]]\n",
      "------------------------------------------\n",
      "[[4], [5], [0], [4], [0, 1], [3], [9], [4], [7], [8]]\n",
      "Reward -10\n",
      "[[4], [5], [0], [4], [0, 1], [3], [9], [4], [7], [8]]\n",
      "------------------------------------------\n",
      "[[4], [5], [0], [4], [0, 1], [3], [9], [4], [7], [8]]\n",
      "Reward -10\n",
      "[[4], [5], [0], [4], [0, 1], [3], [9], [4], [7], [8]]\n",
      "------------------------------------------\n",
      "[[4], [5], [0], [4], [0, 1], [3], [9], [4], [7], [8]]\n",
      "Reward -10\n",
      "[[4], [5], [0], [4], [0, 1], [3], [9], [4], [7], [8]]\n",
      "------------------------------------------\n",
      "[[4], [5], [0], [4], [0, 1], [3], [9], [4], [7], [8]]\n",
      "Reward -10\n",
      "[[4], [5], [0], [4], [0, 1], [3], [9], [4], [7], [8]]\n",
      "------------------------------------------\n",
      "[[4], [5], [0], [4], [0, 1], [3], [9], [4], [7], [8]]\n",
      "Reward -10\n",
      "[[4], [5], [0], [4], [0, 1], [3], [9], [4], [7], [8]]\n",
      "------------------------------------------\n",
      "[[4], [5], [0], [4], [0, 1], [3], [9], [4], [7], [8]]\n",
      "Reward -10\n",
      "[[4], [5], [0], [4], [0, 1], [3], [9], [4], [7], [8]]\n",
      "------------------------------------------\n",
      "[[4], [5], [0], [4], [0, 1], [3], [9], [4], [7], [8]]\n",
      "Reward -10\n",
      "[[4], [5], [0], [4], [0, 1], [3], [9], [4], [7], [8]]\n",
      "------------------------------------------\n",
      "[[4], [5], [0], [4], [0, 1], [3], [9], [4], [7], [8]]\n",
      "Reward -3\n",
      "[[4], [5], [0], [4], [0, 1], [3], [9], [4], [7], [8]]\n",
      "------------------------------------------\n",
      "[[4], [5], [0], [4], [0, 1], [3], [9], [4], [7], [8]]\n",
      "Reward -10\n",
      "[[4], [5], [0], [4], [0, 1], [3], [9], [4], [7], [8]]\n",
      "------------------------------------------\n",
      "[[4], [5], [0], [4], [0, 1], [3], [9], [4], [7], [8]]\n",
      "Reward -10\n",
      "[[4], [5], [0], [4], [0, 1], [3], [9], [4], [7], [8]]\n",
      "------------------------------------------\n",
      "[[4], [5], [0], [4], [0, 1], [3], [9], [4], [7], [8]]\n",
      "Reward -10\n",
      "[[4], [5], [0], [4], [0, 1], [3], [9], [4], [7], [8]]\n",
      "------------------------------------------\n",
      "[[4], [5], [0], [4], [0, 1], [3], [9], [4], [7], [8]]\n",
      "Reward -10\n",
      "[[4], [5], [0], [4], [0, 1], [3], [9], [4], [7], [8]]\n",
      "------------------------------------------\n",
      "[[4], [5], [0], [4], [0, 1], [3], [9], [4], [7], [8]]\n",
      "Reward -10\n",
      "[[4], [5], [0], [4], [0, 1], [3], [9], [4], [7], [8]]\n",
      "------------------------------------------\n",
      "[[4], [5], [0], [4], [0, 1], [3], [9], [4], [7], [8]]\n",
      "Reward -10\n",
      "[[4], [5], [0], [4], [0, 1], [3], [9], [4], [7], [8]]\n",
      "------------------------------------------\n"
     ]
    }
   ],
   "source": [
    "for i in range(50):\n",
    "    print(taxienv.queue)\n",
    "    a = taxienv.random_action()\n",
    "    taxienv.step(a)\n",
    "    print(\"Reward\", taxienv.reward())\n",
    "    print(taxienv.queue)\n",
    "    print(\"------------------------------------------\")"
   ]
  },
  {
   "cell_type": "markdown",
   "metadata": {},
   "source": [
    "## 2. Setup the gym for playing with your policy"
   ]
  },
  {
   "cell_type": "markdown",
   "metadata": {},
   "source": [
    "Choos an OpenAI-gym enviorment $\\mathcal{E}$ and play the environment according to the given policy $\\pi$."
   ]
  },
  {
   "cell_type": "code",
   "execution_count": 275,
   "metadata": {},
   "outputs": [],
   "source": [
    "def play_episodes(env, n_episodes, policy, random = False):\n",
    "    \"\"\"\n",
    "    This fucntion plays the given number of episodes given by following a policy or sample randomly from action_space.\n",
    "    \n",
    "    Parameters:\n",
    "        env: OpenAI-gym object\n",
    "        n_episodes: number of episodes to run\n",
    "        policy: Policy to follow while playing an episode\n",
    "        random: Flag for taking random actions. if True no policy would be followed and action will be taken randomly\n",
    "        \n",
    "    Return:\n",
    "        wins: Total number of wins playing n_episodes\n",
    "        total_reward: Total reward of n_episodes\n",
    "        avg_reward: Average reward of n_episodes\n",
    "    \n",
    "    \"\"\"\n",
    "    # intialize wins and total reward\n",
    "    wins = 0\n",
    "    total_reward = 0\n",
    "    \n",
    "    # loop over number of episodes to play\n",
    "    for episode in range(n_episodes):\n",
    "        \n",
    "        # reset the enviorment every time when playing a new episode\n",
    "        env.reset()\n",
    "        \n",
    "        for i in range(1000):\n",
    "            \n",
    "            # check if the random flag is not true then follow the given policy other wise take random action\n",
    "            if random:\n",
    "                action = env.random_action()\n",
    "            else:\n",
    "                action = policy[state]\n",
    "\n",
    "            env.step(action)\n",
    "            reward = env.reward()\n",
    "            \n",
    "            # accumalate total reward\n",
    "            total_reward += reward\n",
    "            \n",
    "            # change the state\n",
    "            \n",
    "            # if game is over with positive reward then add 1.0 in wins\n",
    "            if total_reward > 100:\n",
    "                wins += 1\n",
    "                \n",
    "    # calculate average reward\n",
    "    average_reward = total_reward / n_episodes\n",
    "    \n",
    "    return wins, total_reward, average_reward"
   ]
  },
  {
   "cell_type": "markdown",
   "metadata": {},
   "source": [
    "## Let's Play Now"
   ]
  },
  {
   "cell_type": "code",
   "execution_count": 173,
   "metadata": {},
   "outputs": [],
   "source": [
    "opt_Policy = [0, 3, 3, 3, 0, 0, 0, 0, 3, 1, 0, 0, 0, 2, 1, 0]"
   ]
  },
  {
   "cell_type": "code",
   "execution_count": 276,
   "metadata": {},
   "outputs": [],
   "source": [
    "n_episode = 10\n",
    "wins, total_reward, avg_reward = play_episodes(taxienv, n_episode, opt_Policy, random = True)"
   ]
  },
  {
   "cell_type": "code",
   "execution_count": 277,
   "metadata": {},
   "outputs": [
    {
     "name": "stdout",
     "output_type": "stream",
     "text": [
      "0 -100000 -10000.0\n"
     ]
    }
   ],
   "source": [
    "print(wins, total_reward, avg_reward)"
   ]
  },
  {
   "cell_type": "code",
   "execution_count": null,
   "metadata": {},
   "outputs": [],
   "source": []
  }
 ],
 "metadata": {
  "kernelspec": {
   "display_name": "Python 3",
   "language": "python",
   "name": "python3"
  },
  "language_info": {
   "codemirror_mode": {
    "name": "ipython",
    "version": 3
   },
   "file_extension": ".py",
   "mimetype": "text/x-python",
   "name": "python",
   "nbconvert_exporter": "python",
   "pygments_lexer": "ipython3",
   "version": "3.7.6"
  }
 },
 "nbformat": 4,
 "nbformat_minor": 2
}
