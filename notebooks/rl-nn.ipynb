{
 "cells": [
  {
   "cell_type": "markdown",
   "metadata": {},
   "source": [
    "# MDP Algorithms with OpenAI Gym"
   ]
  },
  {
   "cell_type": "code",
   "execution_count": 190,
   "metadata": {},
   "outputs": [],
   "source": [
    "import numpy as np\n",
    "import gym\n",
    "import gym.spaces as spaces\n",
    "import time\n",
    "\n",
    "import numpy as np\n",
    "import networkx as nx\n",
    "\n",
    "import matplotlib.pyplot as plt"
   ]
  },
  {
   "cell_type": "code",
   "execution_count": 232,
   "metadata": {},
   "outputs": [
    {
     "data": {
      "image/png": "[encoded data removed]",
      "text/plain": [
       "<Figure size 432x288 with 1 Axes>"
      ]
     },
     "metadata": {},
     "output_type": "display_data"
    }
   ],
   "source": [
    "# Number of locations in the city\n",
    "N = 10\n",
    "connectivity = 2\n",
    "p = 0.8\n",
    "\n",
    "# make a random graph to represent a city network\n",
    "road_network = nx.connected_watts_strogatz_graph(N, connectivity, p)\n",
    "nodes = road_network.nodes\n",
    "\n",
    "nx.draw_networkx(road_network)\n",
    "plt.show()"
   ]
  },
  {
   "cell_type": "code",
   "execution_count": 233,
   "metadata": {},
   "outputs": [
    {
     "name": "stdout",
     "output_type": "stream",
     "text": [
      "Total path to travel [2, 4, 3, 0, 3, 4, 5]\n",
      "Total expected reward 6.0\n",
      "Total customer wait time 3\n",
      "Location:  2\n",
      "Location:  4\n",
      "Location:  3\n",
      "Location:  0\n",
      "Location:  3\n",
      "Location:  4\n",
      "Location:  5\n",
      "Location:  5\n",
      "Location:  5\n",
      "Location:  5\n"
     ]
    }
   ],
   "source": [
    "class Taxi:\n",
    "    \"\"\"\n",
    "    A taxi class to keep track of the internal state for each taxi.\n",
    "    \"\"\"\n",
    "    def __init__(self, number, start_location):\n",
    "        self._number = number\n",
    "        self.available = True\n",
    "        self.current_location = start_location\n",
    "\n",
    "        self.source = []\n",
    "        self.destination = []\n",
    "        self.path = []\n",
    "        self.path_generator = None\n",
    "        self.expected_reward = 0.\n",
    "        self.customer_wait_time = None\n",
    "\n",
    "    @property\n",
    "    def number(self):\n",
    "        return self._number\n",
    "\n",
    "    def hire(self, source, destination):\n",
    "        if self.available == True:\n",
    "            self.available = False\n",
    "            self.source = source\n",
    "            self.destination = destination\n",
    "\n",
    "            self.set_path_and_reward(source, destination)\n",
    "            \n",
    "    def dispatch(self, destination):\n",
    "        self.destination = destination\n",
    "        to_destination = nx.shortest_path(road_network, self.current_location,\n",
    "                                       destination)\n",
    "        self.path = to_destination\n",
    "        self.path_generator = (p for p in self.path)\n",
    "        \n",
    "        cost = len(to_destination) - 1\n",
    "        self.expected_reward = -cost\n",
    "\n",
    "            \n",
    "    def set_path_and_reward(self, source, destination):\n",
    "        \"\"\"\n",
    "        Sets a path from current location to source and then the destination.\n",
    "        \"\"\"\n",
    "        to_customer = nx.shortest_path(road_network, self.current_location,\n",
    "                                       source)\n",
    "        to_destination = nx.shortest_path(road_network, source,\n",
    "                                       destination)\n",
    "        \n",
    "        total_path = to_customer[:-1]+to_destination\n",
    "        self.path = total_path\n",
    "        self.path_generator = (p for p in self.path)\n",
    "        \n",
    "        cost_to_go_to_customer = len(to_customer) - 1\n",
    "        trip_reward = 3*(len(to_destination) - 1)\n",
    "\n",
    "        self.expected_reward += trip_reward - cost_to_go_to_customer\n",
    "        self.customer_wait_time = len(to_customer) - 1\n",
    "\n",
    "\n",
    "    def reset(self):\n",
    "        self.available = True\n",
    "        \n",
    "        self.source = []\n",
    "        self.destination = []\n",
    "        self.path = []\n",
    "        self.path_generator = None\n",
    "        self.expected_reward = 0.\n",
    "\n",
    "\n",
    "    def step(self):\n",
    "        if (self.current_location == self.destination) and (self.available == True):\n",
    "            self.reset()\n",
    "        else:\n",
    "            try:\n",
    "                self.current_location = next(self.path_generator)\n",
    "            except:\n",
    "                pass\n",
    "    \n",
    "    def __repr__(self):\n",
    "        return str(self.number)\n",
    "\n",
    "# Set taxi at location 5\n",
    "taxi_test = Taxi(0, 2)\n",
    "\n",
    "# Hire for a delivery from location\n",
    "taxi_test.hire(0, 5)\n",
    "\n",
    "print(\"Total path to travel\", taxi_test.path)\n",
    "print(\"Total expected reward\", taxi_test.expected_reward)\n",
    "print(\"Total customer wait time\", taxi_test.customer_wait_time)\n",
    "\n",
    "# Take a few steps\n",
    "for i in range(10):\n",
    "    taxi_test.step()\n",
    "    print(\"Location: \", taxi_test.current_location)"
   ]
  },
  {
   "cell_type": "code",
   "execution_count": 234,
   "metadata": {},
   "outputs": [
    {
     "name": "stdout",
     "output_type": "stream",
     "text": [
      "Total path to travel [1, 6]\n",
      "Total expected reward -1\n",
      "Total customer wait time None\n",
      "Location:  1\n",
      "Total expected reward -1\n",
      "Location:  6\n",
      "Total expected reward -1\n",
      "Location:  6\n",
      "Total expected reward 0.0\n",
      "Location:  6\n",
      "Total expected reward 0.0\n",
      "Location:  6\n",
      "Total expected reward 0.0\n",
      "Location:  6\n",
      "Total expected reward 0.0\n",
      "Location:  6\n",
      "Total expected reward 0.0\n",
      "Location:  6\n",
      "Total expected reward 0.0\n",
      "Location:  6\n",
      "Total expected reward 0.0\n",
      "Location:  6\n",
      "Total expected reward 0.0\n"
     ]
    }
   ],
   "source": [
    "# Set taxi at location 5\n",
    "taxi_test = Taxi(0, 1)\n",
    "\n",
    "# Hire for a delivery from location\n",
    "taxi_test.dispatch(6)\n",
    "\n",
    "print(\"Total path to travel\", taxi_test.path)\n",
    "print(\"Total expected reward\", taxi_test.expected_reward)\n",
    "print(\"Total customer wait time\", taxi_test.customer_wait_time)\n",
    "\n",
    "# Take a few steps\n",
    "for i in range(10):\n",
    "    taxi_test.step()\n",
    "    print(\"Location: \", taxi_test.current_location)\n",
    "    print(\"Total expected reward\", taxi_test.expected_reward)"
   ]
  },
  {
   "cell_type": "code",
   "execution_count": 235,
   "metadata": {},
   "outputs": [
    {
     "data": {
      "text/plain": [
       "0.0"
      ]
     },
     "execution_count": 235,
     "metadata": {},
     "output_type": "execute_result"
    }
   ],
   "source": [
    "taxi_test.expected_reward"
   ]
  },
  {
   "cell_type": "code",
   "execution_count": 305,
   "metadata": {},
   "outputs": [],
   "source": [
    "class Environment(object):\n",
    "    def __init__(self, road_network, num_taxis):\n",
    "        \"\"\"\n",
    "        An environment to play the game\n",
    "        \n",
    "        Args:\n",
    "            road_network (`nx.Graph`): a networkX graph representing the road network\n",
    "            num_taxis (int): the number of taxi\n",
    "        \"\"\"\n",
    "        self.road_network = road_network\n",
    "        self.nodes = road_network.nodes\n",
    "        self.num_nodes = len(road_network.nodes)\n",
    "        \n",
    "        self.num_taxis = num_taxis\n",
    "        self.taxi_queue = [[] for i in range(self.num_nodes)]\n",
    "        self._initialize_taxi_queue()\n",
    "        \n",
    "        self.queue = [[] for i in range(self.num_nodes)]\n",
    "\n",
    "\n",
    "    def _initialize_taxi_queue(self):\n",
    "        \"\"\"\n",
    "        Initializes a taxi queue\n",
    "        \"\"\"\n",
    "        for i in range(self.num_taxis):\n",
    "            rand_location = np.random.randint(0, self.num_nodes)\n",
    "            self.taxi_queue[rand_location].append(Taxi(i, rand_location))\n",
    "\n",
    "        \n",
    "    def generate_demand(self):\n",
    "        \"\"\"\n",
    "        Generates demands to go randomly to new locations at each point and adds to queue.\n",
    "\n",
    "        Args:\n",
    "            queue (list): a list of current demands at each location\n",
    "        \"\"\"\n",
    "        for i, demand in enumerate(np.random.poisson(size=self.num_nodes)):\n",
    "            possible_destinations = list(self.nodes)\n",
    "            possible_destinations.remove(i)\n",
    "            new_destinations = np.random.choice(possible_destinations, demand)\n",
    "            for d in new_destinations.ravel():\n",
    "                self.queue[i].append(d)\n",
    "\n",
    "            \n",
    "    def random_action(self):\n",
    "        \"\"\"\n",
    "        Takes a random set of actions to assign to taxis.\n",
    "        \"\"\"\n",
    "        actions = {}\n",
    "\n",
    "        for node in range(self.num_nodes):\n",
    "            # get one action for each available taxi in the location\n",
    "            for taxi in self.taxi_queue[node]:\n",
    "                if taxi.available:\n",
    "                    rand_source = np.random.randint(0, self.num_nodes)\n",
    "                    if (len(self.queue[rand_source]) > 1) and (np.random.random() > 0.5):\n",
    "                        destination = np.random.choice(self.queue[rand_source], 1)\n",
    "                        taxi.hire(rand_source, destination[0])\n",
    "                        actions[taxi.number] = \"hired\"\n",
    "                    else:\n",
    "                        taxi.dispatch(rand_source)\n",
    "                        actions[taxi.number] = \"dispatched\"\n",
    "                else:\n",
    "                    actions[taxi.number] = \"Nothing\"\n",
    "        return actions\n",
    "    \n",
    "    def assign(self, actions):\n",
    "        \"\"\"\n",
    "        Assign the actions to the taxis\n",
    "        \"\"\"\n",
    "        \n",
    "        for i, action in enumerate(actions):\n",
    "            for k in range(len(action)):\n",
    "                # random destination\n",
    "                dest = np.random.randint(0, N)\n",
    "                taxi_queue[i][k].hire(action[k], dest)\n",
    "\n",
    "\n",
    "    def step(self, actions):\n",
    "        \"\"\"\n",
    "        Takes a single step of the environment implementing the actions\n",
    "        \"\"\"\n",
    "        pass"
   ]
  },
  {
   "cell_type": "code",
   "execution_count": 306,
   "metadata": {},
   "outputs": [
    {
     "data": {
      "text/plain": [
       "[[], [], [], [], [], [], [], [], [], []]"
      ]
     },
     "execution_count": 306,
     "metadata": {},
     "output_type": "execute_result"
    }
   ],
   "source": [
    "taxienv = Environment(road_network, 20)\n",
    "taxienv.queue"
   ]
  },
  {
   "cell_type": "code",
   "execution_count": 307,
   "metadata": {},
   "outputs": [
    {
     "name": "stdout",
     "output_type": "stream",
     "text": [
      "[[1], [4, 2], [], [4, 1, 5, 6], [], [], [], [8], [9, 5], [7]]\n",
      "\n",
      "\n",
      "[[1, 2], [4, 2], [], [4, 1, 5, 6], [0], [], [4], [8, 9], [9, 5], [7]]\n",
      "\n",
      "\n",
      "[[1, 2, 4], [4, 2], [6, 6], [4, 1, 5, 6, 1], [0, 1, 3, 6, 3], [], [4, 2], [8, 9, 3], [9, 5], [7]]\n",
      "\n",
      "\n",
      "[[1, 2, 4, 3, 8], [4, 2], [6, 6, 1], [4, 1, 5, 6, 1, 5, 9], [0, 1, 3, 6, 3, 8, 9], [7, 9, 4], [4, 2], [8, 9, 3, 0, 1], [9, 5, 3, 9], [7, 3]]\n",
      "\n",
      "\n",
      "[[1, 2, 4, 3, 8], [4, 2], [6, 6, 1], [4, 1, 5, 6, 1, 5, 9, 7, 9], [0, 1, 3, 6, 3, 8, 9, 1], [7, 9, 4], [4, 2, 5], [8, 9, 3, 0, 1, 1, 1, 0], [9, 5, 3, 9], [7, 3, 7]]\n",
      "\n",
      "\n"
     ]
    }
   ],
   "source": [
    "for i in range(5):\n",
    "    taxienv.generate_demand()\n",
    "    print(taxienv.queue)\n",
    "    print(\"\\n\")"
   ]
  },
  {
   "cell_type": "code",
   "execution_count": 308,
   "metadata": {},
   "outputs": [
    {
     "data": {
      "text/plain": [
       "{10: 'dispatched',\n",
       " 7: 'dispatched',\n",
       " 12: 'dispatched',\n",
       " 17: 'dispatched',\n",
       " 3: 'dispatched',\n",
       " 5: 'dispatched',\n",
       " 1: 'hired',\n",
       " 4: 'hired',\n",
       " 11: 'dispatched',\n",
       " 18: 'hired',\n",
       " 0: 'hired',\n",
       " 8: 'hired',\n",
       " 13: 'hired',\n",
       " 15: 'hired',\n",
       " 9: 'hired',\n",
       " 16: 'dispatched',\n",
       " 14: 'hired',\n",
       " 19: 'hired',\n",
       " 6: 'hired',\n",
       " 2: 'hired'}"
      ]
     },
     "execution_count": 308,
     "metadata": {},
     "output_type": "execute_result"
    }
   ],
   "source": [
    "taxienv.random_action()"
   ]
  },
  {
   "cell_type": "markdown",
   "metadata": {},
   "source": [
    "## 2. Setup the gym for playing with your policy"
   ]
  },
  {
   "cell_type": "markdown",
   "metadata": {},
   "source": [
    "Choos an OpenAI-gym enviorment $\\mathcal{E}$ and play the environment according to the given policy $\\pi$."
   ]
  },
  {
   "cell_type": "code",
   "execution_count": 28,
   "metadata": {},
   "outputs": [],
   "source": [
    "def play_episodes(enviorment, n_episodes, policy, random = False):\n",
    "    \"\"\"\n",
    "    This fucntion plays the given number of episodes given by following a policy or sample randomly from action_space.\n",
    "    \n",
    "    Parameters:\n",
    "        enviorment: OpenAI-gym object\n",
    "        n_episodes: number of episodes to run\n",
    "        policy: Policy to follow while playing an episode\n",
    "        random: Flag for taking random actions. if True no policy would be followed and action will be taken randomly\n",
    "        \n",
    "    Return:\n",
    "        wins: Total number of wins playing n_episodes\n",
    "        total_reward: Total reward of n_episodes\n",
    "        avg_reward: Average reward of n_episodes\n",
    "    \n",
    "    \"\"\"\n",
    "    # intialize wins and total reward\n",
    "    wins = 0\n",
    "    total_reward = 0\n",
    "    \n",
    "    # loop over number of episodes to play\n",
    "    for episode in range(n_episodes):\n",
    "        \n",
    "        # flag to check if the game is finished\n",
    "        terminated = False\n",
    "        \n",
    "        # reset the enviorment every time when playing a new episode\n",
    "        state = enviorment.reset()\n",
    "        \n",
    "        while not terminated:\n",
    "            \n",
    "            # check if the random flag is not true then follow the given policy other wise take random action\n",
    "            if random:\n",
    "                action = enviorment.action_space.sample()\n",
    "            else:\n",
    "                action = policy[state]\n",
    "\n",
    "            # take the next step\n",
    "            next_state, reward,  terminated, info = enviorment.step(action)\n",
    "            \n",
    "            enviorment.render()\n",
    "            \n",
    "            # accumalate total reward\n",
    "            total_reward += reward\n",
    "            \n",
    "            # change the state\n",
    "            state = next_state\n",
    "            \n",
    "            # if game is over with positive reward then add 1.0 in wins\n",
    "            if terminated and reward == 1.0:\n",
    "                wins += 1\n",
    "                \n",
    "    # calculate average reward\n",
    "    average_reward = total_reward / n_episodes\n",
    "    \n",
    "    return wins, total_reward, average_reward\n",
    "            "
   ]
  },
  {
   "cell_type": "markdown",
   "metadata": {},
   "source": [
    "## Let's Play Now"
   ]
  },
  {
   "cell_type": "code",
   "execution_count": 36,
   "metadata": {},
   "outputs": [],
   "source": [
    "opt_Policy = [0, 3, 3, 3, 0, 0, 0, 0, 3, 1, 0, 0, 0, 2, 1, 0]"
   ]
  },
  {
   "cell_type": "code",
   "execution_count": 302,
   "metadata": {},
   "outputs": [],
   "source": [
    "n_episode = 10\n",
    "wins, total_reward, avg_reward = play_episodes(enviorment, n_episode, opt_Policy, random = False)"
   ]
  },
  {
   "cell_type": "code",
   "execution_count": null,
   "metadata": {},
   "outputs": [],
   "source": []
  }
 ],
 "metadata": {
  "kernelspec": {
   "display_name": "Python 3",
   "language": "python",
   "name": "python3"
  },
  "language_info": {
   "codemirror_mode": {
    "name": "ipython",
    "version": 3
   },
   "file_extension": ".py",
   "mimetype": "text/x-python",
   "name": "python",
   "nbconvert_exporter": "python",
   "pygments_lexer": "ipython3",
   "version": "3.7.6"
  }
 },
 "nbformat": 4,
 "nbformat_minor": 2
}
