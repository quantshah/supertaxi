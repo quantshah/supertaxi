{
 "cells": [
  {
   "cell_type": "code",
   "execution_count": 1,
   "metadata": {},
   "outputs": [],
   "source": [
    "from __future__ import absolute_import\n",
    "from __future__ import division\n",
    "from __future__ import print_function\n",
    "\n",
    "import abc\n",
    "import tensorflow as tf\n",
    "import numpy as np\n",
    "\n",
    "from itertools import product\n",
    "\n",
    "from tf_agents.environments import py_environment\n",
    "from tf_agents.environments import tf_environment\n",
    "from tf_agents.environments import tf_py_environment, random_py_environment, random_tf_environment\n",
    "from tf_agents.environments import utils\n",
    "from tf_agents.specs import array_spec\n",
    "from tf_agents.environments import wrappers\n",
    "from tf_agents.trajectories import time_step as ts\n",
    "from tf_agents.utils import common\n",
    "\n",
    "from tf_agents.networks import encoding_network\n",
    "\n",
    "\n",
    "from tf_agents.agents.dqn import dqn_agent\n",
    "from tf_agents.drivers import dynamic_step_driver\n",
    "from tf_agents.eval import metric_utils\n",
    "from tf_agents.metrics import tf_metrics\n",
    "from tf_agents.networks import q_network, network\n",
    "from tf_agents.networks.utils import BatchSquash\n",
    "from tf_agents.policies import random_tf_policy\n",
    "from tf_agents.replay_buffers import tf_uniform_replay_buffer, episodic_replay_buffer\n",
    "from tf_agents.trajectories import trajectory\n",
    "from tf_agents.utils import common\n",
    "\n",
    "from tf_agents.utils import common as common_utils\n",
    "from tf_agents.utils import nest_utils\n",
    "from tf_agents.specs import tensor_spec\n",
    "\n",
    "import collections\n",
    "\n",
    "import gin\n",
    "import tensorflow as tf  # pylint: disable=g-explicit-tensorflow-version-import\n",
    "from tf_agents.agents import tf_agent\n",
    "from tf_agents.policies import boltzmann_policy\n",
    "from tf_agents.policies import epsilon_greedy_policy\n",
    "from tf_agents.policies import greedy_policy\n",
    "from tf_agents.policies import q_policy\n",
    "from tf_agents.trajectories import trajectory\n",
    "from tf_agents.utils import common\n",
    "from tf_agents.utils import composite\n",
    "from tf_agents.utils import eager_utils\n",
    "from tf_agents.utils import nest_utils\n",
    "from tf_agents.utils import training as training_lib\n",
    "from tf_agents.utils import value_ops\n",
    "from tf_agents.networks import actor_distribution_network\n",
    "from tf_agents.agents.reinforce import reinforce_agent\n",
    "\n",
    "\n",
    "\n",
    "\n",
    "import matplotlib.pyplot as plt\n",
    "\n",
    "import tensorflow as tf\n",
    "\n",
    "tf.compat.v1.enable_v2_behavior()"
   ]
  },
  {
   "cell_type": "code",
   "execution_count": 6,
   "metadata": {},
   "outputs": [],
   "source": [
    "class CarRentalEnv(py_environment.PyEnvironment):\n",
    "    def __init__(self, locations=2, max_cars=15, max_days=100, max_move=5):\n",
    "        self.locations = locations\n",
    "        self.max_cars = max_cars\n",
    "        self.max_days = max_days\n",
    "\n",
    "        self._action_spec = array_spec.BoundedArraySpec(shape=(),\n",
    "                                                        dtype=np.int32,\n",
    "                                                        minimum = 0,\n",
    "                                                        maximum = 10,\n",
    "                                                        name='action')\n",
    "\n",
    "        self._observation_spec = array_spec.BoundedArraySpec(shape=(locations,),\n",
    "                                                             dtype=np.int32,\n",
    "                                                             minimum=np.zeros(locations, dtype=np.int32),\n",
    "                                                             maximum=np.ones(locations, dtype=np.int32)*max_cars,\n",
    "                                                             name='observation')\n",
    "\n",
    "        self._state = np.zeros(locations, dtype=np.int32)\n",
    "        self._episode_ended = False\n",
    "        self._num_days = 0\n",
    "        \n",
    "        self.total_rented = [0, 0]\n",
    "        self.rental_rate = [3, 4]\n",
    "        self.return_rate = [3, 2]\n",
    "\n",
    "    def action_spec(self):\n",
    "        return self._action_spec\n",
    "\n",
    "    def observation_spec(self):\n",
    "        return self._observation_spec\n",
    "\n",
    "    def _reset(self):\n",
    "        self._state[0] = np.random.randint(0, self.max_cars)\n",
    "        self._state[1] = self.max_cars - self._state[0]\n",
    "        self.total_rented = [0, 0]\n",
    "        self._episode_ended = False\n",
    "        self._num_days = 0\n",
    "        return ts.restart(np.array(self._state, dtype=np.int32))\n",
    "\n",
    "    def _step(self, action):\n",
    "\n",
    "        if self._episode_ended:\n",
    "            return self.reset()\n",
    "\n",
    "        reward = self.move(action)\n",
    "\n",
    "        self._num_days += 1\n",
    "\n",
    "        if self.game_over():\n",
    "            self._episode_ended = True\n",
    "            return ts.termination(np.array(self._state, dtype=np.int32), reward)\n",
    "        else:\n",
    "            return ts.transition(\n",
    "                np.array(self._state, dtype=np.int32), reward=reward, discount=0.9)\n",
    "\n",
    "    def calc_all_rewards(self):\n",
    "        '''\n",
    "        Reward of a morning state.\n",
    "        '''\n",
    "        for i, queue in enumerate(self.location_queues):\n",
    "            for ini_num_car in range(self.max_cars + 1):\n",
    "                queue.reset_ini_num_pkt(ini_num_car)\n",
    "                probs, reward = queue.run_multiple_unit_slots()\n",
    "                self.expected_rewards[i][ini_num_car] = reward\n",
    "\n",
    "\n",
    "    def total_cars(self, start_cars, total_rented, rental_rate, return_rate):\n",
    "        rented = np.random.poisson(rental_rate)\n",
    "\n",
    "        if rented > start_cars:\n",
    "            rented = start_cars\n",
    "        else:\n",
    "            pass\n",
    "        total_rented += rented\n",
    "\n",
    "        returned = np.random.poisson(return_rate)\n",
    "\n",
    "        if returned > total_rented:\n",
    "            returned = total_rented\n",
    "\n",
    "        total_rented -= returned\n",
    "        final_cars = start_cars - rented + returned\n",
    "        return final_cars, rented, total_rented\n",
    "\n",
    "    \n",
    "    def move(self, action):\n",
    "        \"\"\"\n",
    "        \"\"\"\n",
    "        # Update the state at end of the day\n",
    "        reward = 0\n",
    "        for i in range(self.locations):\n",
    "            self._state[i], rented, self.total_rented[i] = self.total_cars(self._state[i],\n",
    "                                                                           self.total_rented[i],\n",
    "                                                                           self.rental_rate[i],\n",
    "                                                                           self.return_rate[i])\n",
    "            reward += rented*10\n",
    "\n",
    "        if action>5:\n",
    "            self._state[0] += action-5\n",
    "            self._state[1] -= action-5\n",
    "            reward -= 2*(action-5)\n",
    "        else:\n",
    "            self._state[0] -= action\n",
    "            self._state[1] += action\n",
    "            reward -= 2*(action)\n",
    "        self._state = np.clip(self._state, a_min = 0, a_max = self.max_cars)\n",
    "        return reward\n",
    "\n",
    "    def game_over(self):\n",
    "        return self._num_days > self.max_days"
   ]
  },
  {
   "cell_type": "code",
   "execution_count": 7,
   "metadata": {},
   "outputs": [],
   "source": [
    "locations = 2\n",
    "\n",
    "env1 = CarRentalEnv(locations)\n",
    "utils.validate_py_environment(env1, episodes=2)\n",
    "train_env = tf_py_environment.TFPyEnvironment(env1)\n",
    "\n",
    "env2 = CarRentalEnv(locations)\n",
    "utils.validate_py_environment(env2, episodes=2)\n",
    "eval_env = tf_py_environment.TFPyEnvironment(env2)"
   ]
  },
  {
   "cell_type": "code",
   "execution_count": 8,
   "metadata": {},
   "outputs": [
    {
     "name": "stdout",
     "output_type": "stream",
     "text": [
      "Current state:  [[ 1 14]] Current reward: tf.Tensor([0.], shape=(1,), dtype=float32)\n",
      "Action:  5\n",
      "Current state:  [[ 0 15]] Current reward: tf.Tensor([50.], shape=(1,), dtype=float32)\n",
      "Action:  8\n",
      "Current state:  [[3 8]] Current reward: tf.Tensor([44.], shape=(1,), dtype=float32)\n",
      "Action:  8\n",
      "Current state:  [[4 2]] Current reward: tf.Tensor([74.], shape=(1,), dtype=float32)\n",
      "Action:  3\n",
      "Current state:  [[1 4]] Current reward: tf.Tensor([14.], shape=(1,), dtype=float32)\n",
      "Action:  3\n",
      "Current state:  [[0 8]] Current reward: tf.Tensor([24.], shape=(1,), dtype=float32)\n",
      "Action:  10\n",
      "Current state:  [[5 1]] Current reward: tf.Tensor([50.], shape=(1,), dtype=float32)\n",
      "Action:  7\n",
      "Current state:  [[4 0]] Current reward: tf.Tensor([46.], shape=(1,), dtype=float32)\n",
      "Action:  0\n",
      "Current state:  [[3 1]] Current reward: tf.Tensor([20.], shape=(1,), dtype=float32)\n",
      "Action:  10\n",
      "Current state:  [[12  0]] Current reward: tf.Tensor([0.], shape=(1,), dtype=float32)\n",
      "Action:  3\n",
      "Current state:  [[9 4]] Current reward: tf.Tensor([14.], shape=(1,), dtype=float32)\n",
      "Action:  6\n",
      "Current state:  [[10  4]] Current reward: tf.Tensor([28.], shape=(1,), dtype=float32)\n",
      "Action:  8\n",
      "Current state:  [[13  3]] Current reward: tf.Tensor([54.], shape=(1,), dtype=float32)\n",
      "Action:  5\n",
      "Current state:  [[8 7]] Current reward: tf.Tensor([30.], shape=(1,), dtype=float32)\n",
      "Action:  4\n",
      "Current state:  [[2 9]] Current reward: tf.Tensor([62.], shape=(1,), dtype=float32)\n",
      "Action:  8\n",
      "Current state:  [[6 8]] Current reward: tf.Tensor([44.], shape=(1,), dtype=float32)\n",
      "Action:  4\n",
      "Current state:  [[ 3 10]] Current reward: tf.Tensor([42.], shape=(1,), dtype=float32)\n",
      "Action:  4\n",
      "Current state:  [[ 0 15]] Current reward: tf.Tensor([42.], shape=(1,), dtype=float32)\n",
      "Action:  6\n",
      "Current state:  [[1 9]] Current reward: tf.Tensor([68.], shape=(1,), dtype=float32)\n",
      "Action:  4\n",
      "Current state:  [[ 0 15]] Current reward: tf.Tensor([32.], shape=(1,), dtype=float32)\n",
      "Action:  4\n"
     ]
    }
   ],
   "source": [
    "time_step = train_env.reset()\n",
    "    \n",
    "for i in range(20):\n",
    "    print(\"Current state: \", time_step.observation.numpy(), \"Current reward:\", time_step.reward)\n",
    "    action = np.random.randint(0, 11)\n",
    "    print(\"Action: \", action)\n",
    "    time_step = train_env.step(action)"
   ]
  },
  {
   "cell_type": "code",
   "execution_count": 9,
   "metadata": {},
   "outputs": [],
   "source": [
    "num_iterations = 10000 # @param {type:\"integer\"}\n",
    "\n",
    "initial_collect_steps = 1000  # @param {type:\"integer\"} \n",
    "collect_steps_per_iteration = 10  # @param {type:\"integer\"}\n",
    "replay_buffer_max_length = 100000  # @param {type:\"integer\"}\n",
    "\n",
    "batch_size = 128  # @param {type:\"integer\"}\n",
    "learning_rate = 1e-3  # @param {type:\"number\"}\n",
    "log_interval = 200  # @param {type:\"integer\"}\n",
    "\n",
    "num_eval_episodes = 10  # @param {type:\"integer\"}\n",
    "eval_interval = 1000  # @param {type:\"integer\"}"
   ]
  },
  {
   "cell_type": "code",
   "execution_count": 11,
   "metadata": {},
   "outputs": [],
   "source": [
    "train_step_counter = tf.compat.v2.Variable(0)\n",
    "fc_layer_params = (20, 20)\n",
    "q_net = q_network.QNetwork(\n",
    "    train_env.observation_spec(),\n",
    "    train_env.action_spec(),\n",
    "    fc_layer_params=fc_layer_params)\n",
    "\n",
    "optimizer = tf.compat.v1.train.AdamOptimizer(learning_rate=learning_rate)\n",
    "\n",
    "train_step_counter = tf.Variable(0)\n",
    "\n",
    "agent = dqn_agent.DqnAgent(\n",
    "    train_env.time_step_spec(),\n",
    "    train_env.action_spec(),\n",
    "    q_network=q_net,\n",
    "    optimizer=optimizer,\n",
    "    td_errors_loss_fn=common.element_wise_squared_loss,\n",
    "    train_step_counter=train_step_counter)\n",
    "\n",
    "agent.initialize()"
   ]
  },
  {
   "cell_type": "code",
   "execution_count": 12,
   "metadata": {},
   "outputs": [],
   "source": [
    "eval_policy = agent.policy\n",
    "collect_policy = agent.collect_policy\n",
    "\n",
    "random_policy = random_tf_policy.RandomTFPolicy(train_env.time_step_spec(),\n",
    "                                                train_env.action_spec())"
   ]
  },
  {
   "cell_type": "code",
   "execution_count": 13,
   "metadata": {},
   "outputs": [
    {
     "data": {
      "text/plain": [
       "4152.4"
      ]
     },
     "execution_count": 13,
     "metadata": {},
     "output_type": "execute_result"
    }
   ],
   "source": [
    "def compute_avg_return(environment, policy, num_episodes=10):\n",
    "\n",
    "  total_return = 0.0\n",
    "  for _ in range(num_episodes):\n",
    "\n",
    "    time_step = environment.reset()\n",
    "    episode_return = 0.0\n",
    "\n",
    "    while not time_step.is_last():\n",
    "      action_step = policy.action(time_step)\n",
    "      time_step = environment.step(action_step.action)\n",
    "      episode_return += time_step.reward\n",
    "    total_return += episode_return\n",
    "\n",
    "  avg_return = total_return / num_episodes\n",
    "  return avg_return.numpy()[0]\n",
    "\n",
    "compute_avg_return(eval_env, random_policy, num_eval_episodes)"
   ]
  },
  {
   "cell_type": "code",
   "execution_count": 14,
   "metadata": {},
   "outputs": [],
   "source": [
    "\n",
    "replay_buffer = tf_uniform_replay_buffer.TFUniformReplayBuffer(\n",
    "    data_spec=agent.collect_data_spec,\n",
    "    batch_size=train_env.batch_size,\n",
    "    max_length=replay_buffer_max_length)"
   ]
  },
  {
   "cell_type": "code",
   "execution_count": 15,
   "metadata": {},
   "outputs": [
    {
     "data": {
      "text/plain": [
       "<PrefetchDataset shapes: (Trajectory(step_type=(128, 2), observation=(128, 2, 2), action=(128, 2), policy_info=(), next_step_type=(128, 2), reward=(128, 2), discount=(128, 2)), BufferInfo(ids=(128, 2), probabilities=(128,))), types: (Trajectory(step_type=tf.int32, observation=tf.int32, action=tf.int32, policy_info=(), next_step_type=tf.int32, reward=tf.float32, discount=tf.float32), BufferInfo(ids=tf.int64, probabilities=tf.float32))>"
      ]
     },
     "execution_count": 15,
     "metadata": {},
     "output_type": "execute_result"
    }
   ],
   "source": [
    "\n",
    "def collect_step(environment, policy, buffer):\n",
    "  time_step = environment.current_time_step()\n",
    "  action_step = policy.action(time_step)\n",
    "  next_time_step = environment.step(action_step.action)\n",
    "  traj = trajectory.from_transition(time_step, action_step, next_time_step)\n",
    "\n",
    "  # Add trajectory to the replay buffer\n",
    "  buffer.add_batch(traj)\n",
    "\n",
    "def collect_data(env, policy, buffer, steps):\n",
    "  for _ in range(steps):\n",
    "    collect_step(env, policy, buffer)\n",
    "\n",
    "collect_data(train_env, random_policy, replay_buffer, steps=100)\n",
    "\n",
    "dataset = replay_buffer.as_dataset(\n",
    "    num_parallel_calls=3, \n",
    "    sample_batch_size=batch_size, \n",
    "    num_steps=2).prefetch(3)\n",
    "\n",
    "\n",
    "dataset"
   ]
  },
  {
   "cell_type": "code",
   "execution_count": 16,
   "metadata": {},
   "outputs": [
    {
     "name": "stdout",
     "output_type": "stream",
     "text": [
      "<tensorflow.python.data.ops.iterator_ops.OwnedIterator object at 0x7fded927cf90>\n"
     ]
    }
   ],
   "source": [
    "iterator = iter(dataset)\n",
    "\n",
    "print(iterator)"
   ]
  },
  {
   "cell_type": "code",
   "execution_count": 17,
   "metadata": {},
   "outputs": [
    {
     "name": "stdout",
     "output_type": "stream",
     "text": [
      "step = 200: loss = 1030.2835693359375\n",
      "step = 400: loss = 686.690673828125\n",
      "step = 600: loss = 2790.5126953125\n",
      "step = 800: loss = 1553.9183349609375\n",
      "step = 1000: loss = 1926.68994140625\n",
      "step = 1000: Average Return = 3189.199951171875\n",
      "step = 1200: loss = 1126.546630859375\n",
      "step = 1400: loss = 878.4148559570312\n",
      "step = 1600: loss = 1978.81298828125\n",
      "step = 1800: loss = 1672.1680908203125\n",
      "step = 2000: loss = 1538.7518310546875\n",
      "step = 2000: Average Return = 3425.60009765625\n",
      "step = 2200: loss = 1699.5654296875\n",
      "step = 2400: loss = 2414.43603515625\n",
      "step = 2600: loss = 2578.261962890625\n",
      "step = 2800: loss = 642.92138671875\n",
      "step = 3000: loss = 1787.59033203125\n",
      "step = 3000: Average Return = 3046.199951171875\n",
      "step = 3200: loss = 1911.8980712890625\n",
      "step = 3400: loss = 979.294677734375\n",
      "step = 3600: loss = 469.83892822265625\n",
      "step = 3800: loss = 1761.9146728515625\n",
      "step = 4000: loss = 944.4429931640625\n",
      "step = 4000: Average Return = 3433.0\n",
      "step = 4200: loss = 946.4193725585938\n",
      "step = 4400: loss = 287.17926025390625\n",
      "step = 4600: loss = 867.5010375976562\n",
      "step = 4800: loss = 2308.59619140625\n",
      "step = 5000: loss = 4031.8095703125\n",
      "step = 5000: Average Return = 3825.60009765625\n",
      "step = 5200: loss = 1060.17041015625\n",
      "step = 5400: loss = 227.03445434570312\n",
      "step = 5600: loss = 1330.9605712890625\n",
      "step = 5800: loss = 211.65843200683594\n",
      "step = 6000: loss = 1058.17333984375\n",
      "step = 6000: Average Return = 3810.39990234375\n",
      "step = 6200: loss = 1189.3779296875\n",
      "step = 6400: loss = 994.6527099609375\n",
      "step = 6600: loss = 2086.8876953125\n",
      "step = 6800: loss = 3972.8046875\n",
      "step = 7000: loss = 337.0586853027344\n",
      "step = 7000: Average Return = 3996.39990234375\n",
      "step = 7200: loss = 246.73236083984375\n",
      "step = 7400: loss = 1078.0072021484375\n",
      "step = 7600: loss = 3642.456787109375\n",
      "step = 7800: loss = 1928.9642333984375\n",
      "step = 8000: loss = 234.1795196533203\n",
      "step = 8000: Average Return = 4482.60009765625\n",
      "step = 8200: loss = 181.83480834960938\n",
      "step = 8400: loss = 256.16925048828125\n",
      "step = 8600: loss = 2394.99267578125\n",
      "step = 8800: loss = 253.43212890625\n",
      "step = 9000: loss = 3131.77783203125\n",
      "step = 9000: Average Return = 4438.2001953125\n",
      "step = 9200: loss = 227.0318603515625\n",
      "step = 9400: loss = 1006.6611938476562\n",
      "step = 9600: loss = 216.09092712402344\n",
      "step = 9800: loss = 223.0945587158203\n",
      "step = 10000: loss = 1172.6688232421875\n",
      "step = 10000: Average Return = 4065.39990234375\n"
     ]
    }
   ],
   "source": [
    "# (Optional) Optimize by wrapping some of the code in a graph using TF function.\n",
    "agent.train = common.function(agent.train)\n",
    "\n",
    "# Reset the train step\n",
    "agent.train_step_counter.assign(0)\n",
    "\n",
    "# Evaluate the agent's policy once before training.\n",
    "avg_return = compute_avg_return(eval_env, agent.policy, num_eval_episodes)\n",
    "returns = [avg_return]\n",
    "\n",
    "for _ in range(num_iterations):\n",
    "\n",
    "  # Collect a few steps using collect_policy and save to the replay buffer.\n",
    "  for _ in range(collect_steps_per_iteration):\n",
    "    collect_step(train_env, agent.collect_policy, replay_buffer)\n",
    "\n",
    "  # Sample a batch of data from the buffer and update the agent's network.\n",
    "  experience, unused_info = next(iterator)\n",
    "  train_loss = agent.train(experience).loss\n",
    "\n",
    "  step = agent.train_step_counter.numpy()\n",
    "\n",
    "  if step % log_interval == 0:\n",
    "    print('step = {0}: loss = {1}'.format(step, train_loss))\n",
    "\n",
    "  if step % eval_interval == 0:\n",
    "    avg_return = compute_avg_return(eval_env, agent.policy, num_eval_episodes)\n",
    "    print('step = {0}: Average Return = {1}'.format(step, avg_return))\n",
    "    returns.append(avg_return)"
   ]
  },
  {
   "cell_type": "code",
   "execution_count": 18,
   "metadata": {},
   "outputs": [
    {
     "data": {
      "text/plain": [
       "[<matplotlib.lines.Line2D at 0x7fded927ca10>]"
      ]
     },
     "execution_count": 18,
     "metadata": {},
     "output_type": "execute_result"
    },
    {
     "data": {
      "image/png": "[encoded data removed]",
      "text/plain": [
       "<Figure size 432x288 with 1 Axes>"
      ]
     },
     "metadata": {
      "needs_background": "light"
     },
     "output_type": "display_data"
    }
   ],
   "source": [
    "plt.plot(returns)"
   ]
  },
  {
   "cell_type": "code",
   "execution_count": 19,
   "metadata": {},
   "outputs": [
    {
     "name": "stdout",
     "output_type": "stream",
     "text": [
      "tf.Tensor([[9 6]], shape=(1, 2), dtype=int32)\n",
      "State: tf.Tensor([[9 6]], shape=(1, 2), dtype=int32)\n",
      "Action: tf.Tensor([0], shape=(1,), dtype=int32)\n",
      "State: tf.Tensor([[5 1]], shape=(1, 2), dtype=int32)\n",
      "Action: tf.Tensor([1], shape=(1,), dtype=int32)\n",
      "State: tf.Tensor([[4 2]], shape=(1, 2), dtype=int32)\n",
      "Action: tf.Tensor([0], shape=(1,), dtype=int32)\n",
      "State: tf.Tensor([[6 0]], shape=(1, 2), dtype=int32)\n",
      "Action: tf.Tensor([1], shape=(1,), dtype=int32)\n",
      "State: tf.Tensor([[3 1]], shape=(1, 2), dtype=int32)\n",
      "Action: tf.Tensor([0], shape=(1,), dtype=int32)\n",
      "State: tf.Tensor([[7 1]], shape=(1, 2), dtype=int32)\n",
      "Action: tf.Tensor([1], shape=(1,), dtype=int32)\n",
      "State: tf.Tensor([[6 1]], shape=(1, 2), dtype=int32)\n",
      "Action: tf.Tensor([1], shape=(1,), dtype=int32)\n",
      "State: tf.Tensor([[5 2]], shape=(1, 2), dtype=int32)\n",
      "Action: tf.Tensor([0], shape=(1,), dtype=int32)\n",
      "State: tf.Tensor([[5 0]], shape=(1, 2), dtype=int32)\n",
      "Action: tf.Tensor([1], shape=(1,), dtype=int32)\n",
      "State: tf.Tensor([[4 3]], shape=(1, 2), dtype=int32)\n",
      "Action: tf.Tensor([0], shape=(1,), dtype=int32)\n"
     ]
    }
   ],
   "source": [
    "time_step = train_env.reset()\n",
    "print(time_step.observation)\n",
    "\n",
    "for i in range(10):\n",
    "    \n",
    "    print(\"State:\", time_step.observation)\n",
    "    action_step = agent.policy.action(time_step)\n",
    "    print(\"Action:\", action_step.action)\n",
    "    time_step = train_env.step(action_step.action)"
   ]
  },
  {
   "cell_type": "code",
   "execution_count": 20,
   "metadata": {},
   "outputs": [
    {
     "data": {
      "text/plain": [
       "(<tf.Tensor: shape=(1, 2), dtype=int32, numpy=array([[4, 5]], dtype=int32)>,)"
      ]
     },
     "execution_count": 20,
     "metadata": {},
     "output_type": "execute_result"
    }
   ],
   "source": []
  },
  {
   "cell_type": "code",
   "execution_count": 26,
   "metadata": {},
   "outputs": [],
   "source": [
    "from itertools import product\n",
    "\n",
    "time_step = train_env.reset()\n",
    "max_num_car = 15\n",
    "\n",
    "policy_matrix = np.zeros((max_num_car+1, max_num_car+1))\n",
    "\n",
    "for i, j in product(range(max_num_car+1), range(max_num_car+1)):\n",
    "    state = tf.constant(np.array([[i, j]]), dtype=tf.int32)\n",
    "    policy_output = agent.policy.action(ts.TimeStep(time_step.step_type, reward=time_step.reward,\n",
    "                                 discount=time_step.discount,\n",
    "                                 observation=state))\n",
    "    action = policy_output.action.numpy()[0]\n",
    "    \n",
    "    if action > 5:\n",
    "        action -= 5\n",
    "    \n",
    "    policy_matrix[i,j] = action"
   ]
  },
  {
   "cell_type": "code",
   "execution_count": 27,
   "metadata": {},
   "outputs": [
    {
     "data": {
      "text/plain": [
       "<matplotlib.colorbar.Colorbar at 0x7fdec811a4d0>"
      ]
     },
     "execution_count": 27,
     "metadata": {},
     "output_type": "execute_result"
    },
    {
     "data": {
      "image/png": "[encoded data removed]",
      "text/plain": [
       "<Figure size 288x288 with 2 Axes>"
      ]
     },
     "metadata": {
      "needs_background": "light"
     },
     "output_type": "display_data"
    }
   ],
   "source": [
    "im = plt.matshow(policy_matrix)\n",
    "plt.colorbar(im)"
   ]
  }
 ],
 "metadata": {
  "kernelspec": {
   "display_name": "Python 3",
   "language": "python",
   "name": "python3"
  },
  "language_info": {
   "codemirror_mode": {
    "name": "ipython",
    "version": 3
   },
   "file_extension": ".py",
   "mimetype": "text/x-python",
   "name": "python",
   "nbconvert_exporter": "python",
   "pygments_lexer": "ipython3",
   "version": "3.7.6"
  }
 },
 "nbformat": 4,
 "nbformat_minor": 4
}
